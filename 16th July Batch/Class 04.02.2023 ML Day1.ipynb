{
 "cells": [
  {
   "attachments": {},
   "cell_type": "markdown",
   "metadata": {},
   "source": [
    "Artificial Intellegnece -\n",
    "ML - machine learning\n",
    "DL - Deep learning"
   ]
  },
  {
   "attachments": {},
   "cell_type": "markdown",
   "metadata": {},
   "source": [
    "1.  Supervised Learning\n",
    "2.  Unsupervised Learning\n",
    "3.  Reinforcement Learning"
   ]
  },
  {
   "attachments": {},
   "cell_type": "markdown",
   "metadata": {},
   "source": [
    "Age - Labels\n",
    "\n",
    "38\n",
    "52\n",
    "45\n",
    "29\n",
    "75\n",
    "\n",
    "Learning from labeled data is supervised learning"
   ]
  },
  {
   "attachments": {},
   "cell_type": "markdown",
   "metadata": {},
   "source": [
    "alien came to earth -\n",
    "person x is giving a paper with a specific photo (gandhiji) to the shop keeper and shopkeeper giving him food\n",
    "alien tears up some gandhi poster and goes to shop , shopkeeper refuses food\n",
    "\n",
    "learning 1 - not all paper with gandhi photo is a rupee/currency\n",
    "learning 2 - it whould have rbi strip\n",
    "learning 3 - it should be of a specific shape\n",
    "learning 4 - it should have few fixed denominations \n",
    "\n",
    "##### Learning from your mistakes\n",
    "\n"
   ]
  },
  {
   "attachments": {},
   "cell_type": "markdown",
   "metadata": {},
   "source": [
    "row and column data - \n",
    "image , sound , light radiation , video"
   ]
  },
  {
   "attachments": {},
   "cell_type": "markdown",
   "metadata": {},
   "source": [
    "#### Recommendation System"
   ]
  },
  {
   "attachments": {},
   "cell_type": "markdown",
   "metadata": {},
   "source": [
    "1.  Content based recommendation\n",
    "2.  Popularity based recommendation\n",
    "3.  collaborative filetering\n"
   ]
  },
  {
   "attachments": {},
   "cell_type": "markdown",
   "metadata": {},
   "source": [
    "- AB Testing"
   ]
  },
  {
   "cell_type": "markdown",
   "metadata": {},
   "source": []
  }
 ],
 "metadata": {
  "language_info": {
   "name": "python"
  },
  "orig_nbformat": 4
 },
 "nbformat": 4,
 "nbformat_minor": 2
}
