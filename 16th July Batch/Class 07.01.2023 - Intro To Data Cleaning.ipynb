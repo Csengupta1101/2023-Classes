{
 "cells": [
  {
   "attachments": {},
   "cell_type": "markdown",
   "metadata": {},
   "source": [
    "### Topic To Cover\n",
    "    ●\tParsing \n",
    "    ●\tCorrecting\n",
    "    ●\tStandardising\n",
    "    ●\tMatching\n",
    "    ●\tConsolidating\n"
   ]
  },
  {
   "cell_type": "code",
   "execution_count": 1,
   "metadata": {},
   "outputs": [],
   "source": [
    "import pandas as pd"
   ]
  },
  {
   "cell_type": "code",
   "execution_count": 3,
   "metadata": {},
   "outputs": [],
   "source": [
    "df = pd.read_csv('Census.csv')"
   ]
  },
  {
   "cell_type": "code",
   "execution_count": 4,
   "metadata": {},
   "outputs": [
    {
     "data": {
      "text/html": [
       "<div>\n",
       "<style scoped>\n",
       "    .dataframe tbody tr th:only-of-type {\n",
       "        vertical-align: middle;\n",
       "    }\n",
       "\n",
       "    .dataframe tbody tr th {\n",
       "        vertical-align: top;\n",
       "    }\n",
       "\n",
       "    .dataframe thead th {\n",
       "        text-align: right;\n",
       "    }\n",
       "</style>\n",
       "<table border=\"1\" class=\"dataframe\">\n",
       "  <thead>\n",
       "    <tr style=\"text-align: right;\">\n",
       "      <th></th>\n",
       "      <th>CensusTract</th>\n",
       "      <th>State</th>\n",
       "      <th>County</th>\n",
       "      <th>TotalPop</th>\n",
       "      <th>Men</th>\n",
       "      <th>Women</th>\n",
       "      <th>Hispanic</th>\n",
       "      <th>White</th>\n",
       "      <th>Black</th>\n",
       "      <th>Native</th>\n",
       "      <th>...</th>\n",
       "      <th>Walk</th>\n",
       "      <th>OtherTransp</th>\n",
       "      <th>WorkAtHome</th>\n",
       "      <th>MeanCommute</th>\n",
       "      <th>Employed</th>\n",
       "      <th>PrivateWork</th>\n",
       "      <th>PublicWork</th>\n",
       "      <th>SelfEmployed</th>\n",
       "      <th>FamilyWork</th>\n",
       "      <th>Unemployment</th>\n",
       "    </tr>\n",
       "  </thead>\n",
       "  <tbody>\n",
       "    <tr>\n",
       "      <th>0</th>\n",
       "      <td>1001020100</td>\n",
       "      <td>Alabama</td>\n",
       "      <td>Autauga</td>\n",
       "      <td>1948</td>\n",
       "      <td>940</td>\n",
       "      <td>1008</td>\n",
       "      <td>0.9</td>\n",
       "      <td>87.4</td>\n",
       "      <td>7.7</td>\n",
       "      <td>0.3</td>\n",
       "      <td>...</td>\n",
       "      <td>0.5</td>\n",
       "      <td>2.3</td>\n",
       "      <td>2.1</td>\n",
       "      <td>25.0</td>\n",
       "      <td>943</td>\n",
       "      <td>77.1</td>\n",
       "      <td>18.3</td>\n",
       "      <td>4.6</td>\n",
       "      <td>0.0</td>\n",
       "      <td>5.4</td>\n",
       "    </tr>\n",
       "    <tr>\n",
       "      <th>1</th>\n",
       "      <td>1001020200</td>\n",
       "      <td>Alabama</td>\n",
       "      <td>Autauga</td>\n",
       "      <td>2156</td>\n",
       "      <td>1059</td>\n",
       "      <td>1097</td>\n",
       "      <td>0.8</td>\n",
       "      <td>40.4</td>\n",
       "      <td>53.3</td>\n",
       "      <td>0.0</td>\n",
       "      <td>...</td>\n",
       "      <td>0.0</td>\n",
       "      <td>0.7</td>\n",
       "      <td>0.0</td>\n",
       "      <td>23.4</td>\n",
       "      <td>753</td>\n",
       "      <td>77.0</td>\n",
       "      <td>16.9</td>\n",
       "      <td>6.1</td>\n",
       "      <td>0.0</td>\n",
       "      <td>13.3</td>\n",
       "    </tr>\n",
       "    <tr>\n",
       "      <th>2</th>\n",
       "      <td>1001020300</td>\n",
       "      <td>Alabama</td>\n",
       "      <td>Autauga</td>\n",
       "      <td>2968</td>\n",
       "      <td>1364</td>\n",
       "      <td>1604</td>\n",
       "      <td>0.0</td>\n",
       "      <td>74.5</td>\n",
       "      <td>18.6</td>\n",
       "      <td>0.5</td>\n",
       "      <td>...</td>\n",
       "      <td>0.0</td>\n",
       "      <td>0.0</td>\n",
       "      <td>2.5</td>\n",
       "      <td>19.6</td>\n",
       "      <td>1373</td>\n",
       "      <td>64.1</td>\n",
       "      <td>23.6</td>\n",
       "      <td>12.3</td>\n",
       "      <td>0.0</td>\n",
       "      <td>6.2</td>\n",
       "    </tr>\n",
       "    <tr>\n",
       "      <th>3</th>\n",
       "      <td>1001020400</td>\n",
       "      <td>Alabama</td>\n",
       "      <td>Autauga</td>\n",
       "      <td>4423</td>\n",
       "      <td>2172</td>\n",
       "      <td>2251</td>\n",
       "      <td>10.5</td>\n",
       "      <td>82.8</td>\n",
       "      <td>3.7</td>\n",
       "      <td>1.6</td>\n",
       "      <td>...</td>\n",
       "      <td>0.0</td>\n",
       "      <td>2.6</td>\n",
       "      <td>1.6</td>\n",
       "      <td>25.3</td>\n",
       "      <td>1782</td>\n",
       "      <td>75.7</td>\n",
       "      <td>21.2</td>\n",
       "      <td>3.1</td>\n",
       "      <td>0.0</td>\n",
       "      <td>10.8</td>\n",
       "    </tr>\n",
       "    <tr>\n",
       "      <th>4</th>\n",
       "      <td>1001020500</td>\n",
       "      <td>Alabama</td>\n",
       "      <td>Autauga</td>\n",
       "      <td>10763</td>\n",
       "      <td>4922</td>\n",
       "      <td>5841</td>\n",
       "      <td>0.7</td>\n",
       "      <td>68.5</td>\n",
       "      <td>24.8</td>\n",
       "      <td>0.0</td>\n",
       "      <td>...</td>\n",
       "      <td>0.0</td>\n",
       "      <td>0.6</td>\n",
       "      <td>0.9</td>\n",
       "      <td>24.8</td>\n",
       "      <td>5037</td>\n",
       "      <td>67.1</td>\n",
       "      <td>27.6</td>\n",
       "      <td>5.3</td>\n",
       "      <td>0.0</td>\n",
       "      <td>4.2</td>\n",
       "    </tr>\n",
       "  </tbody>\n",
       "</table>\n",
       "<p>5 rows × 37 columns</p>\n",
       "</div>"
      ],
      "text/plain": [
       "   CensusTract    State   County  TotalPop   Men  Women  Hispanic  White  \\\n",
       "0   1001020100  Alabama  Autauga      1948   940   1008       0.9   87.4   \n",
       "1   1001020200  Alabama  Autauga      2156  1059   1097       0.8   40.4   \n",
       "2   1001020300  Alabama  Autauga      2968  1364   1604       0.0   74.5   \n",
       "3   1001020400  Alabama  Autauga      4423  2172   2251      10.5   82.8   \n",
       "4   1001020500  Alabama  Autauga     10763  4922   5841       0.7   68.5   \n",
       "\n",
       "   Black  Native  ...  Walk  OtherTransp  WorkAtHome  MeanCommute  Employed  \\\n",
       "0    7.7     0.3  ...   0.5          2.3         2.1         25.0       943   \n",
       "1   53.3     0.0  ...   0.0          0.7         0.0         23.4       753   \n",
       "2   18.6     0.5  ...   0.0          0.0         2.5         19.6      1373   \n",
       "3    3.7     1.6  ...   0.0          2.6         1.6         25.3      1782   \n",
       "4   24.8     0.0  ...   0.0          0.6         0.9         24.8      5037   \n",
       "\n",
       "   PrivateWork  PublicWork  SelfEmployed  FamilyWork  Unemployment  \n",
       "0         77.1        18.3           4.6         0.0           5.4  \n",
       "1         77.0        16.9           6.1         0.0          13.3  \n",
       "2         64.1        23.6          12.3         0.0           6.2  \n",
       "3         75.7        21.2           3.1         0.0          10.8  \n",
       "4         67.1        27.6           5.3         0.0           4.2  \n",
       "\n",
       "[5 rows x 37 columns]"
      ]
     },
     "execution_count": 4,
     "metadata": {},
     "output_type": "execute_result"
    }
   ],
   "source": [
    "df.head()"
   ]
  },
  {
   "cell_type": "code",
   "execution_count": 5,
   "metadata": {},
   "outputs": [],
   "source": [
    "''' For csv parsing we can also get our data in a variable after opening a file and then can read it from\n",
    "there'''\n",
    "import csv\n",
    "with open('Census.csv','r') as census:\n",
    "    reader = csv.reader(census, delimiter=',')\n",
    "    header = next(reader)"
   ]
  },
  {
   "cell_type": "code",
   "execution_count": 7,
   "metadata": {},
   "outputs": [
    {
     "name": "stdout",
     "output_type": "stream",
     "text": [
      "['CensusTract', 'State', 'County', 'TotalPop', 'Men', 'Women', 'Hispanic', 'White', 'Black', 'Native', 'Asian', 'Pacific', 'Citizen', 'Income', 'IncomeErr', 'IncomePerCap', 'IncomePerCapErr', 'Poverty', 'ChildPoverty', 'Professional', 'Service', 'Office', 'Construction', 'Production', 'Drive', 'Carpool', 'Transit', 'Walk', 'OtherTransp', 'WorkAtHome', 'MeanCommute', 'Employed', 'PrivateWork', 'PublicWork', 'SelfEmployed', 'FamilyWork', 'Unemployment']\n"
     ]
    }
   ],
   "source": [
    "print(header)"
   ]
  },
  {
   "cell_type": "code",
   "execution_count": 8,
   "metadata": {},
   "outputs": [
    {
     "data": {
      "text/plain": [
       "Index(['CensusTract', 'State', 'County', 'TotalPop', 'Men', 'Women',\n",
       "       'Hispanic', 'White', 'Black', 'Native', 'Asian', 'Pacific', 'Citizen',\n",
       "       'Income', 'IncomeErr', 'IncomePerCap', 'IncomePerCapErr', 'Poverty',\n",
       "       'ChildPoverty', 'Professional', 'Service', 'Office', 'Construction',\n",
       "       'Production', 'Drive', 'Carpool', 'Transit', 'Walk', 'OtherTransp',\n",
       "       'WorkAtHome', 'MeanCommute', 'Employed', 'PrivateWork', 'PublicWork',\n",
       "       'SelfEmployed', 'FamilyWork', 'Unemployment'],\n",
       "      dtype='object')"
      ]
     },
     "execution_count": 8,
     "metadata": {},
     "output_type": "execute_result"
    }
   ],
   "source": [
    "df.columns"
   ]
  },
  {
   "cell_type": "code",
   "execution_count": 10,
   "metadata": {},
   "outputs": [
    {
     "name": "stdout",
     "output_type": "stream",
     "text": [
      "<_csv.reader object at 0x000002035007E0E0>\n"
     ]
    }
   ],
   "source": [
    "''' The reader function will only store the memory location of the csv file being read'''\n",
    "print(reader)"
   ]
  },
  {
   "cell_type": "code",
   "execution_count": 21,
   "metadata": {},
   "outputs": [
    {
     "name": "stdout",
     "output_type": "stream",
     "text": [
      "Input expression for parser module\n",
      " parsing the input expression\n"
     ]
    },
    {
     "ename": "AttributeError",
     "evalue": "module 'parse' has no attribute 'expr'",
     "output_type": "error",
     "traceback": [
      "\u001b[1;31m---------------------------------------------------------------------------\u001b[0m",
      "\u001b[1;31mAttributeError\u001b[0m                            Traceback (most recent call last)",
      "\u001b[1;32md:\\DS WorkFlow\\Data Is Good Class Files\\Batches\\2023-Classes\\16th July Batch\\Class 07.01.2023 - Intro To Data Cleaning.ipynb Cell 9\u001b[0m in \u001b[0;36m<cell line: 10>\u001b[1;34m()\u001b[0m\n\u001b[0;32m      <a href='vscode-notebook-cell:/d%3A/DS%20WorkFlow/Data%20Is%20Good%20Class%20Files/Batches/2023-Classes/16th%20July%20Batch/Class%2007.01.2023%20-%20Intro%20To%20Data%20Cleaning.ipynb#X12sZmlsZQ%3D%3D?line=7'>8</a>\u001b[0m expression \u001b[39m=\u001b[39m \u001b[39m\"\u001b[39m\u001b[39m5 + 93\u001b[39m\u001b[39m\"\u001b[39m\n\u001b[0;32m      <a href='vscode-notebook-cell:/d%3A/DS%20WorkFlow/Data%20Is%20Good%20Class%20Files/Batches/2023-Classes/16th%20July%20Batch/Class%2007.01.2023%20-%20Intro%20To%20Data%20Cleaning.ipynb#X12sZmlsZQ%3D%3D?line=8'>9</a>\u001b[0m \u001b[39mprint\u001b[39m(\u001b[39m\"\u001b[39m\u001b[39m parsing the input expression\u001b[39m\u001b[39m\"\u001b[39m)\n\u001b[1;32m---> <a href='vscode-notebook-cell:/d%3A/DS%20WorkFlow/Data%20Is%20Good%20Class%20Files/Batches/2023-Classes/16th%20July%20Batch/Class%2007.01.2023%20-%20Intro%20To%20Data%20Cleaning.ipynb#X12sZmlsZQ%3D%3D?line=9'>10</a>\u001b[0m parsing \u001b[39m=\u001b[39m parse\u001b[39m.\u001b[39;49mexpr(expression)\n\u001b[0;32m     <a href='vscode-notebook-cell:/d%3A/DS%20WorkFlow/Data%20Is%20Good%20Class%20Files/Batches/2023-Classes/16th%20July%20Batch/Class%2007.01.2023%20-%20Intro%20To%20Data%20Cleaning.ipynb#X12sZmlsZQ%3D%3D?line=10'>11</a>\u001b[0m \u001b[39mprint\u001b[39m(parsing)\n\u001b[0;32m     <a href='vscode-notebook-cell:/d%3A/DS%20WorkFlow/Data%20Is%20Good%20Class%20Files/Batches/2023-Classes/16th%20July%20Batch/Class%2007.01.2023%20-%20Intro%20To%20Data%20Cleaning.ipynb#X12sZmlsZQ%3D%3D?line=11'>12</a>\u001b[0m \u001b[39mprint\u001b[39m(\u001b[39m\"\u001b[39m\u001b[39m Converting parsed object to code object\u001b[39m\u001b[39m\"\u001b[39m)\n",
      "\u001b[1;31mAttributeError\u001b[0m: module 'parse' has no attribute 'expr'"
     ]
    }
   ],
   "source": [
    "''' Sometimes our data stays in strange formats , with the help of parser module we can perform calculation\n",
    "on the same , suppose a data point is given as \"5+93\" which is a string but by looking at it we know that\n",
    "it's a mathematical statement and the result would be 98 , let's find we can parse through this'''\n",
    "\n",
    "import parse\n",
    "\n",
    "print(\"Input expression for parser module\")\n",
    "expression = \"5 + 93\"\n",
    "print(\" parsing the input expression\")\n",
    "parsing = parse.expr(expression)\n",
    "print(parsing)\n",
    "print(\" Converting parsed object to code object\")\n",
    "code = parsing.compile()\n",
    "print(code)\n",
    "print(\" Parsed result: \")\n",
    "res = eval(code)\n",
    "print(res)"
   ]
  },
  {
   "cell_type": "code",
   "execution_count": null,
   "metadata": {},
   "outputs": [],
   "source": []
  }
 ],
 "metadata": {
  "kernelspec": {
   "display_name": "github1",
   "language": "python",
   "name": "python3"
  },
  "language_info": {
   "codemirror_mode": {
    "name": "ipython",
    "version": 3
   },
   "file_extension": ".py",
   "mimetype": "text/x-python",
   "name": "python",
   "nbconvert_exporter": "python",
   "pygments_lexer": "ipython3",
   "version": "3.10.8"
  },
  "orig_nbformat": 4,
  "vscode": {
   "interpreter": {
    "hash": "e2f1f49a464b0261529b7f879af28a2fa50ede0bedb86dbf326bb328bc03475b"
   }
  }
 },
 "nbformat": 4,
 "nbformat_minor": 2
}
