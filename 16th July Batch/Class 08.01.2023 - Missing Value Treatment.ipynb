{
 "cells": [
  {
   "attachments": {},
   "cell_type": "markdown",
   "metadata": {},
   "source": [
    "### Topics To Cover\n",
    "    ●\tMissing Values: The Effects and Causes\n",
    "    ●\tMissing Values Types\n",
    "    ●\tWhen should the missing values be removed?\n",
    "    ●\tUse business logic to fill in missing values\n",
    "    ●\tFilling in missing values using Mean, Median, and Mode\n",
    "    ●\tReal-time scenario for adding missing values\n"
   ]
  },
  {
   "cell_type": "markdown",
   "metadata": {},
   "source": []
  }
 ],
 "metadata": {
  "kernelspec": {
   "display_name": "github1",
   "language": "python",
   "name": "python3"
  },
  "language_info": {
   "name": "python",
   "version": "3.10.8 | packaged by conda-forge | (main, Nov 24 2022, 14:07:00) [MSC v.1916 64 bit (AMD64)]"
  },
  "orig_nbformat": 4,
  "vscode": {
   "interpreter": {
    "hash": "e2f1f49a464b0261529b7f879af28a2fa50ede0bedb86dbf326bb328bc03475b"
   }
  }
 },
 "nbformat": 4,
 "nbformat_minor": 2
}
