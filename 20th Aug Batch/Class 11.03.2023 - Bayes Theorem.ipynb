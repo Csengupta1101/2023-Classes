{
 "cells": [
  {
   "attachments": {},
   "cell_type": "markdown",
   "metadata": {},
   "source": [
    "1.  Conditional Probability\n",
    "2.  Bayes Theorem - Naive Bayes Classifier"
   ]
  },
  {
   "attachments": {},
   "cell_type": "markdown",
   "metadata": {},
   "source": [
    "*  two events , event a , event b\n",
    "*  the probability of event a happening with a given condition that event b has already happened\n",
    "*  event a - India winning the tournament\n",
    "*  event b - MS Dhoni scoring 2 centuries in the tournament\n",
    "*  The probability of India winning the tournament when MSD has scored 2 centuries in the tournament."
   ]
  },
  {
   "attachments": {},
   "cell_type": "markdown",
   "metadata": {},
   "source": [
    "Probability - Chance or the possibility of soemthing happening\n",
    "-   a coin is tossed - 50-50 is the probability of heads/tails\n",
    "-   probability of India winning a tournament\n",
    "-   initial q - what is the probability of india winning the asia cup\n",
    "-   rephrased q - what is the probability of india winning the asia cup while MSD scores 2 centuries.\n",
    "-   netharlands and argentina - \" if we go to penalties/tiebreakers , we will have slight advantage on winning\""
   ]
  },
  {
   "attachments": {},
   "cell_type": "markdown",
   "metadata": {},
   "source": [
    "#### Bayes Theorem -\n",
    "-   a = hypothesis\n",
    "-   b = evidence/data\n",
    "-   p(a|b) = probability of event a happening when event b has occured - posterior\n",
    "-   p(b|a) = probability of event b happening when event a has occured - likelihood\n",
    "-   p(a) = probability of event a happening - prior\n",
    "-   p(b) = probability of event b happening - marginal\n",
    "-   p(a|b) = p(b|a)*(p(a)/p(b))\n"
   ]
  },
  {
   "attachments": {},
   "cell_type": "markdown",
   "metadata": {},
   "source": [
    "-   Find the probability of a card being king card - given condition is it is a face card from 52 cards in the pack\n",
    "-   King would be event a here\n",
    "-   Face card would be event b here."
   ]
  },
  {
   "cell_type": "markdown",
   "metadata": {},
   "source": []
  }
 ],
 "metadata": {
  "kernelspec": {
   "display_name": "github1",
   "language": "python",
   "name": "python3"
  },
  "language_info": {
   "codemirror_mode": {
    "name": "ipython",
    "version": 3
   },
   "file_extension": ".py",
   "mimetype": "text/x-python",
   "name": "python",
   "nbconvert_exporter": "python",
   "pygments_lexer": "ipython3",
   "version": "3.10.8"
  },
  "orig_nbformat": 4
 },
 "nbformat": 4,
 "nbformat_minor": 2
}
