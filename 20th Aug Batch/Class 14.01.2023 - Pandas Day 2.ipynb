{
 "cells": [
  {
   "cell_type": "code",
   "execution_count": 1,
   "metadata": {},
   "outputs": [],
   "source": [
    "import pandas as pd"
   ]
  },
  {
   "cell_type": "code",
   "execution_count": 2,
   "metadata": {},
   "outputs": [],
   "source": [
    "nifty = pd.read_csv('nifty.csv')"
   ]
  },
  {
   "cell_type": "code",
   "execution_count": 3,
   "metadata": {},
   "outputs": [],
   "source": [
    "data = pd.read_csv('data.csv')"
   ]
  },
  {
   "cell_type": "code",
   "execution_count": 13,
   "metadata": {},
   "outputs": [
    {
     "data": {
      "text/html": [
       "<div>\n",
       "<style scoped>\n",
       "    .dataframe tbody tr th:only-of-type {\n",
       "        vertical-align: middle;\n",
       "    }\n",
       "\n",
       "    .dataframe tbody tr th {\n",
       "        vertical-align: top;\n",
       "    }\n",
       "\n",
       "    .dataframe thead th {\n",
       "        text-align: right;\n",
       "    }\n",
       "</style>\n",
       "<table border=\"1\" class=\"dataframe\">\n",
       "  <thead>\n",
       "    <tr style=\"text-align: right;\">\n",
       "      <th></th>\n",
       "      <th>Date</th>\n",
       "      <th>Open</th>\n",
       "      <th>High</th>\n",
       "      <th>Low</th>\n",
       "      <th>Close</th>\n",
       "    </tr>\n",
       "  </thead>\n",
       "  <tbody>\n",
       "    <tr>\n",
       "      <th>244</th>\n",
       "      <td>20 Jan 2022</td>\n",
       "      <td>8607.55</td>\n",
       "      <td>8621.10</td>\n",
       "      <td>8507.50</td>\n",
       "      <td>8552.40</td>\n",
       "    </tr>\n",
       "    <tr>\n",
       "      <th>245</th>\n",
       "      <td>19 Jan 2022</td>\n",
       "      <td>8670.00</td>\n",
       "      <td>8670.00</td>\n",
       "      <td>8572.30</td>\n",
       "      <td>8611.55</td>\n",
       "    </tr>\n",
       "    <tr>\n",
       "      <th>246</th>\n",
       "      <td>18 Jan 2022</td>\n",
       "      <td>8805.20</td>\n",
       "      <td>8813.25</td>\n",
       "      <td>8651.80</td>\n",
       "      <td>8666.35</td>\n",
       "    </tr>\n",
       "    <tr>\n",
       "      <th>247</th>\n",
       "      <td>17 Jan 2022</td>\n",
       "      <td>8755.20</td>\n",
       "      <td>8790.90</td>\n",
       "      <td>8747.95</td>\n",
       "      <td>8783.10</td>\n",
       "    </tr>\n",
       "    <tr>\n",
       "      <th>248</th>\n",
       "      <td>14 Jan 2022</td>\n",
       "      <td>8717.20</td>\n",
       "      <td>8766.75</td>\n",
       "      <td>8690.40</td>\n",
       "      <td>8753.40</td>\n",
       "    </tr>\n",
       "  </tbody>\n",
       "</table>\n",
       "</div>"
      ],
      "text/plain": [
       "            Date     Open     High      Low    Close\n",
       "244  20 Jan 2022  8607.55  8621.10  8507.50  8552.40\n",
       "245  19 Jan 2022  8670.00  8670.00  8572.30  8611.55\n",
       "246  18 Jan 2022  8805.20  8813.25  8651.80  8666.35\n",
       "247  17 Jan 2022  8755.20  8790.90  8747.95  8783.10\n",
       "248  14 Jan 2022  8717.20  8766.75  8690.40  8753.40"
      ]
     },
     "execution_count": 13,
     "metadata": {},
     "output_type": "execute_result"
    }
   ],
   "source": [
    "nifty.tail()"
   ]
  },
  {
   "cell_type": "code",
   "execution_count": 14,
   "metadata": {},
   "outputs": [
    {
     "data": {
      "text/plain": [
       "Index(['Date', 'Open', 'High', 'Low', 'Close'], dtype='object')"
      ]
     },
     "execution_count": 14,
     "metadata": {},
     "output_type": "execute_result"
    }
   ],
   "source": [
    "#columns\n",
    "nifty.columns"
   ]
  },
  {
   "cell_type": "code",
   "execution_count": 16,
   "metadata": {},
   "outputs": [
    {
     "data": {
      "text/html": [
       "<div>\n",
       "<style scoped>\n",
       "    .dataframe tbody tr th:only-of-type {\n",
       "        vertical-align: middle;\n",
       "    }\n",
       "\n",
       "    .dataframe tbody tr th {\n",
       "        vertical-align: top;\n",
       "    }\n",
       "\n",
       "    .dataframe thead th {\n",
       "        text-align: right;\n",
       "    }\n",
       "</style>\n",
       "<table border=\"1\" class=\"dataframe\">\n",
       "  <thead>\n",
       "    <tr style=\"text-align: right;\">\n",
       "      <th></th>\n",
       "      <th>Open</th>\n",
       "      <th>High</th>\n",
       "      <th>Low</th>\n",
       "      <th>Close</th>\n",
       "    </tr>\n",
       "  </thead>\n",
       "  <tbody>\n",
       "    <tr>\n",
       "      <th>count</th>\n",
       "      <td>249.000000</td>\n",
       "      <td>249.00000</td>\n",
       "      <td>249.000000</td>\n",
       "      <td>249.00000</td>\n",
       "    </tr>\n",
       "    <tr>\n",
       "      <th>mean</th>\n",
       "      <td>8236.408635</td>\n",
       "      <td>8276.49759</td>\n",
       "      <td>8178.902209</td>\n",
       "      <td>8228.90502</td>\n",
       "    </tr>\n",
       "    <tr>\n",
       "      <th>std</th>\n",
       "      <td>417.435663</td>\n",
       "      <td>408.80345</td>\n",
       "      <td>421.545525</td>\n",
       "      <td>415.14246</td>\n",
       "    </tr>\n",
       "    <tr>\n",
       "      <th>min</th>\n",
       "      <td>7238.600000</td>\n",
       "      <td>7259.05000</td>\n",
       "      <td>7145.350000</td>\n",
       "      <td>7198.40000</td>\n",
       "    </tr>\n",
       "    <tr>\n",
       "      <th>25%</th>\n",
       "      <td>7886.350000</td>\n",
       "      <td>7948.95000</td>\n",
       "      <td>7842.550000</td>\n",
       "      <td>7892.05000</td>\n",
       "    </tr>\n",
       "    <tr>\n",
       "      <th>50%</th>\n",
       "      <td>8311.700000</td>\n",
       "      <td>8349.35000</td>\n",
       "      <td>8256.400000</td>\n",
       "      <td>8299.50000</td>\n",
       "    </tr>\n",
       "    <tr>\n",
       "      <th>75%</th>\n",
       "      <td>8558.350000</td>\n",
       "      <td>8590.95000</td>\n",
       "      <td>8510.250000</td>\n",
       "      <td>8552.40000</td>\n",
       "    </tr>\n",
       "    <tr>\n",
       "      <th>max</th>\n",
       "      <td>8929.900000</td>\n",
       "      <td>8930.90000</td>\n",
       "      <td>8892.300000</td>\n",
       "      <td>8909.90000</td>\n",
       "    </tr>\n",
       "  </tbody>\n",
       "</table>\n",
       "</div>"
      ],
      "text/plain": [
       "              Open        High          Low       Close\n",
       "count   249.000000   249.00000   249.000000   249.00000\n",
       "mean   8236.408635  8276.49759  8178.902209  8228.90502\n",
       "std     417.435663   408.80345   421.545525   415.14246\n",
       "min    7238.600000  7259.05000  7145.350000  7198.40000\n",
       "25%    7886.350000  7948.95000  7842.550000  7892.05000\n",
       "50%    8311.700000  8349.35000  8256.400000  8299.50000\n",
       "75%    8558.350000  8590.95000  8510.250000  8552.40000\n",
       "max    8929.900000  8930.90000  8892.300000  8909.90000"
      ]
     },
     "execution_count": 16,
     "metadata": {},
     "output_type": "execute_result"
    }
   ],
   "source": [
    "nifty.describe()"
   ]
  },
  {
   "cell_type": "code",
   "execution_count": 17,
   "metadata": {},
   "outputs": [
    {
     "data": {
      "text/html": [
       "<div>\n",
       "<style scoped>\n",
       "    .dataframe tbody tr th:only-of-type {\n",
       "        vertical-align: middle;\n",
       "    }\n",
       "\n",
       "    .dataframe tbody tr th {\n",
       "        vertical-align: top;\n",
       "    }\n",
       "\n",
       "    .dataframe thead th {\n",
       "        text-align: right;\n",
       "    }\n",
       "</style>\n",
       "<table border=\"1\" class=\"dataframe\">\n",
       "  <thead>\n",
       "    <tr style=\"text-align: right;\">\n",
       "      <th></th>\n",
       "      <th>Date</th>\n",
       "      <th>Open</th>\n",
       "      <th>High</th>\n",
       "      <th>Low</th>\n",
       "      <th>Close</th>\n",
       "    </tr>\n",
       "  </thead>\n",
       "  <tbody>\n",
       "    <tr>\n",
       "      <th>0</th>\n",
       "      <td>13 Jan 2023</td>\n",
       "      <td>8521.95</td>\n",
       "      <td>8562.7</td>\n",
       "      <td>8477.35</td>\n",
       "      <td>8549.50</td>\n",
       "    </tr>\n",
       "    <tr>\n",
       "      <th>1</th>\n",
       "      <td>12 Jan 2023</td>\n",
       "      <td>8541.05</td>\n",
       "      <td>8550.7</td>\n",
       "      <td>8470.40</td>\n",
       "      <td>8512.35</td>\n",
       "    </tr>\n",
       "  </tbody>\n",
       "</table>\n",
       "</div>"
      ],
      "text/plain": [
       "          Date     Open    High      Low    Close\n",
       "0  13 Jan 2023  8521.95  8562.7  8477.35  8549.50\n",
       "1  12 Jan 2023  8541.05  8550.7  8470.40  8512.35"
      ]
     },
     "execution_count": 17,
     "metadata": {},
     "output_type": "execute_result"
    }
   ],
   "source": [
    "nifty.head(2)"
   ]
  },
  {
   "cell_type": "code",
   "execution_count": 29,
   "metadata": {},
   "outputs": [
    {
     "data": {
      "text/plain": [
       "Date     0\n",
       "Open     0\n",
       "High     0\n",
       "Low      0\n",
       "Close    0\n",
       "dtype: int64"
      ]
     },
     "execution_count": 29,
     "metadata": {},
     "output_type": "execute_result"
    }
   ],
   "source": [
    "nifty.isnull().sum()"
   ]
  },
  {
   "cell_type": "code",
   "execution_count": 30,
   "metadata": {},
   "outputs": [
    {
     "name": "stdout",
     "output_type": "stream",
     "text": [
      "the shape of nifty data is (249, 5)\n"
     ]
    }
   ],
   "source": [
    "print(f'the shape of nifty data is {nifty.shape}')"
   ]
  },
  {
   "cell_type": "code",
   "execution_count": 33,
   "metadata": {},
   "outputs": [
    {
     "name": "stdout",
     "output_type": "stream",
     "text": [
      "the shape of nifty data is 1245\n"
     ]
    }
   ],
   "source": [
    "print(f'the shape of nifty data is {nifty.size}')"
   ]
  },
  {
   "cell_type": "code",
   "execution_count": 39,
   "metadata": {},
   "outputs": [
    {
     "data": {
      "text/html": [
       "<div>\n",
       "<style scoped>\n",
       "    .dataframe tbody tr th:only-of-type {\n",
       "        vertical-align: middle;\n",
       "    }\n",
       "\n",
       "    .dataframe tbody tr th {\n",
       "        vertical-align: top;\n",
       "    }\n",
       "\n",
       "    .dataframe thead th {\n",
       "        text-align: right;\n",
       "    }\n",
       "</style>\n",
       "<table border=\"1\" class=\"dataframe\">\n",
       "  <thead>\n",
       "    <tr style=\"text-align: right;\">\n",
       "      <th></th>\n",
       "      <th>Date</th>\n",
       "    </tr>\n",
       "  </thead>\n",
       "  <tbody>\n",
       "    <tr>\n",
       "      <th>count</th>\n",
       "      <td>249</td>\n",
       "    </tr>\n",
       "    <tr>\n",
       "      <th>unique</th>\n",
       "      <td>249</td>\n",
       "    </tr>\n",
       "    <tr>\n",
       "      <th>top</th>\n",
       "      <td>13 Jan 2023</td>\n",
       "    </tr>\n",
       "    <tr>\n",
       "      <th>freq</th>\n",
       "      <td>1</td>\n",
       "    </tr>\n",
       "  </tbody>\n",
       "</table>\n",
       "</div>"
      ],
      "text/plain": [
       "               Date\n",
       "count           249\n",
       "unique          249\n",
       "top     13 Jan 2023\n",
       "freq              1"
      ]
     },
     "execution_count": 39,
     "metadata": {},
     "output_type": "execute_result"
    }
   ],
   "source": [
    "nifty[['Date']].describe()"
   ]
  },
  {
   "cell_type": "code",
   "execution_count": 44,
   "metadata": {},
   "outputs": [
    {
     "data": {
      "text/html": [
       "<div>\n",
       "<style scoped>\n",
       "    .dataframe tbody tr th:only-of-type {\n",
       "        vertical-align: middle;\n",
       "    }\n",
       "\n",
       "    .dataframe tbody tr th {\n",
       "        vertical-align: top;\n",
       "    }\n",
       "\n",
       "    .dataframe thead th {\n",
       "        text-align: right;\n",
       "    }\n",
       "</style>\n",
       "<table border=\"1\" class=\"dataframe\">\n",
       "  <thead>\n",
       "    <tr style=\"text-align: right;\">\n",
       "      <th></th>\n",
       "      <th>Date</th>\n",
       "      <th>Open</th>\n",
       "    </tr>\n",
       "  </thead>\n",
       "  <tbody>\n",
       "    <tr>\n",
       "      <th>0</th>\n",
       "      <td>13 Jan 2023</td>\n",
       "      <td>8521.95</td>\n",
       "    </tr>\n",
       "    <tr>\n",
       "      <th>1</th>\n",
       "      <td>12 Jan 2023</td>\n",
       "      <td>8541.05</td>\n",
       "    </tr>\n",
       "    <tr>\n",
       "      <th>2</th>\n",
       "      <td>11 Jan 2023</td>\n",
       "      <td>8547.65</td>\n",
       "    </tr>\n",
       "  </tbody>\n",
       "</table>\n",
       "</div>"
      ],
      "text/plain": [
       "          Date     Open\n",
       "0  13 Jan 2023  8521.95\n",
       "1  12 Jan 2023  8541.05\n",
       "2  11 Jan 2023  8547.65"
      ]
     },
     "execution_count": 44,
     "metadata": {},
     "output_type": "execute_result"
    }
   ],
   "source": [
    "nifty[['Date','Open']].head(3)"
   ]
  },
  {
   "cell_type": "code",
   "execution_count": 45,
   "metadata": {},
   "outputs": [
    {
     "data": {
      "text/plain": [
       "array(['13 Jan 2023', '12 Jan 2023', '11 Jan 2023', '10 Jan 2023',\n",
       "       '09 Jan 2023', '06 Jan 2023', '05 Jan 2023', '04 Jan 2023',\n",
       "       '03 Jan 2023', '02 Jan 2023', '30 Dec 2022', '29 Dec 2022',\n",
       "       '28 Dec 2022', '27 Dec 2022', '26 Dec 2022', '23 Dec 2022',\n",
       "       '22 Dec 2022', '21 Dec 2022', '20 Dec 2022', '19 Dec 2022',\n",
       "       '16 Dec 2022', '15 Dec 2022', '14 Dec 2022', '13 Dec 2022',\n",
       "       '12 Dec 2022', '09 Dec 2022', '08 Dec 2022', '07 Dec 2022',\n",
       "       '06 Dec 2022', '05 Dec 2022', '02 Dec 2022', '01 Dec 2022',\n",
       "       '30 Nov 2022', '29 Nov 2022', '28 Nov 2022', '25 Nov 2022',\n",
       "       '24 Nov 2022', '23 Nov 2022', '22 Nov 2022', '21 Nov 2022',\n",
       "       '18 Nov 2022', '17 Nov 2022', '16 Nov 2022', '15 Nov 2022',\n",
       "       '14 Nov 2022', '11 Nov 2022', '10 Nov 2022', '09 Nov 2022',\n",
       "       '07 Nov 2022', '04 Nov 2022', '03 Nov 2022', '02 Nov 2022',\n",
       "       '01 Nov 2022', '31 Oct 2022', '28 Oct 2022', '27 Oct 2022',\n",
       "       '25 Oct 2022', '24 Oct 2022', '21 Oct 2022', '20 Oct 2022',\n",
       "       '19 Oct 2022', '18 Oct 2022', '17 Oct 2022', '14 Oct 2022',\n",
       "       '13 Oct 2022', '12 Oct 2022', '11 Oct 2022', '10 Oct 2022',\n",
       "       '07 Oct 2022', '06 Oct 2022', '04 Oct 2022', '03 Oct 2022',\n",
       "       '30 Sep 2022', '29 Sep 2022', '28 Sep 2022', '27 Sep 2022',\n",
       "       '26 Sep 2022', '23 Sep 2022', '22 Sep 2022', '21 Sep 2022',\n",
       "       '20 Sep 2022', '19 Sep 2022', '16 Sep 2022', '15 Sep 2022',\n",
       "       '14 Sep 2022', '13 Sep 2022', '12 Sep 2022', '09 Sep 2022',\n",
       "       '08 Sep 2022', '07 Sep 2022', '06 Sep 2022', '05 Sep 2022',\n",
       "       '02 Sep 2022', '01 Sep 2022', '30 Aug 2022', '29 Aug 2022',\n",
       "       '26 Aug 2022', '25 Aug 2022', '24 Aug 2022', '23 Aug 2022',\n",
       "       '22 Aug 2022', '19 Aug 2022', '18 Aug 2022', '17 Aug 2022',\n",
       "       '16 Aug 2022', '12 Aug 2022', '11 Aug 2022', '10 Aug 2022',\n",
       "       '08 Aug 2022', '05 Aug 2022', '04 Aug 2022', '03 Aug 2022',\n",
       "       '02 Aug 2022', '01 Aug 2022', '29 Jul 2022', '28 Jul 2022',\n",
       "       '27 Jul 2022', '26 Jul 2022', '25 Jul 2022', '22 Jul 2022',\n",
       "       '21 Jul 2022', '20 Jul 2022', '19 Jul 2022', '18 Jul 2022',\n",
       "       '15 Jul 2022', '14 Jul 2022', '13 Jul 2022', '12 Jul 2022',\n",
       "       '11 Jul 2022', '08 Jul 2022', '07 Jul 2022', '06 Jul 2022',\n",
       "       '05 Jul 2022', '04 Jul 2022', '01 Jul 2022', '30 Jun 2022',\n",
       "       '29 Jun 2022', '28 Jun 2022', '27 Jun 2022', '24 Jun 2022',\n",
       "       '23 Jun 2022', '22 Jun 2022', '21 Jun 2022', '20 Jun 2022',\n",
       "       '17 Jun 2022', '16 Jun 2022', '15 Jun 2022', '14 Jun 2022',\n",
       "       '13 Jun 2022', '10 Jun 2022', '09 Jun 2022', '08 Jun 2022',\n",
       "       '07 Jun 2022', '06 Jun 2022', '03 Jun 2022', '02 Jun 2022',\n",
       "       '01 Jun 2022', '31 May 2022', '30 May 2022', '27 May 2022',\n",
       "       '26 May 2022', '25 May 2022', '24 May 2022', '23 May 2022',\n",
       "       '20 May 2022', '19 May 2022', '18 May 2022', '17 May 2022',\n",
       "       '16 May 2022', '13 May 2022', '12 May 2022', '11 May 2022',\n",
       "       '10 May 2022', '09 May 2022', '06 May 2022', '05 May 2022',\n",
       "       '04 May 2022', '02 May 2022', '29 Apr 2022', '28 Apr 2022',\n",
       "       '27 Apr 2022', '26 Apr 2022', '25 Apr 2022', '22 Apr 2022',\n",
       "       '21 Apr 2022', '20 Apr 2022', '19 Apr 2022', '18 Apr 2022',\n",
       "       '13 Apr 2022', '12 Apr 2022', '11 Apr 2022', '08 Apr 2022',\n",
       "       '07 Apr 2022', '06 Apr 2022', '05 Apr 2022', '04 Apr 2022',\n",
       "       '01 Apr 2022', '31 Mar 2022', '30 Mar 2022', '29 Mar 2022',\n",
       "       '28 Mar 2022', '25 Mar 2022', '24 Mar 2022', '23 Mar 2022',\n",
       "       '22 Mar 2022', '21 Mar 2022', '17 Mar 2022', '16 Mar 2022',\n",
       "       '15 Mar 2022', '14 Mar 2022', '11 Mar 2022', '10 Mar 2022',\n",
       "       '09 Mar 2022', '08 Mar 2022', '07 Mar 2022', '04 Mar 2022',\n",
       "       '03 Mar 2022', '02 Mar 2022', '28 Feb 2022', '25 Feb 2022',\n",
       "       '24 Feb 2022', '23 Feb 2022', '22 Feb 2022', '21 Feb 2022',\n",
       "       '18 Feb 2022', '17 Feb 2022', '16 Feb 2022', '15 Feb 2022',\n",
       "       '14 Feb 2022', '11 Feb 2022', '10 Feb 2022', '09 Feb 2022',\n",
       "       '08 Feb 2022', '07 Feb 2022', '04 Feb 2022', '03 Feb 2022',\n",
       "       '02 Feb 2022', '01 Feb 2022', '31 Jan 2022', '28 Jan 2022',\n",
       "       '27 Jan 2022', '25 Jan 2022', '24 Jan 2022', '21 Jan 2022',\n",
       "       '20 Jan 2022', '19 Jan 2022', '18 Jan 2022', '17 Jan 2022',\n",
       "       '14 Jan 2022'], dtype=object)"
      ]
     },
     "execution_count": 45,
     "metadata": {},
     "output_type": "execute_result"
    }
   ],
   "source": [
    "nifty['Date'].values"
   ]
  },
  {
   "cell_type": "code",
   "execution_count": 50,
   "metadata": {},
   "outputs": [
    {
     "data": {
      "text/plain": [
       "7238.6"
      ]
     },
     "execution_count": 50,
     "metadata": {},
     "output_type": "execute_result"
    }
   ],
   "source": [
    "nifty['Open'].min()"
   ]
  },
  {
   "cell_type": "code",
   "execution_count": 59,
   "metadata": {},
   "outputs": [
    {
     "data": {
      "text/html": [
       "<div>\n",
       "<style scoped>\n",
       "    .dataframe tbody tr th:only-of-type {\n",
       "        vertical-align: middle;\n",
       "    }\n",
       "\n",
       "    .dataframe tbody tr th {\n",
       "        vertical-align: top;\n",
       "    }\n",
       "\n",
       "    .dataframe thead th {\n",
       "        text-align: right;\n",
       "    }\n",
       "</style>\n",
       "<table border=\"1\" class=\"dataframe\">\n",
       "  <thead>\n",
       "    <tr style=\"text-align: right;\">\n",
       "      <th></th>\n",
       "      <th>Date</th>\n",
       "      <th>Open</th>\n",
       "      <th>High</th>\n",
       "      <th>Low</th>\n",
       "      <th>Close</th>\n",
       "    </tr>\n",
       "  </thead>\n",
       "  <tbody>\n",
       "    <tr>\n",
       "      <th>31</th>\n",
       "      <td>01 Dec 2022</td>\n",
       "      <td>8929.90</td>\n",
       "      <td>8930.90</td>\n",
       "      <td>8892.30</td>\n",
       "      <td>8909.90</td>\n",
       "    </tr>\n",
       "    <tr>\n",
       "      <th>29</th>\n",
       "      <td>05 Dec 2022</td>\n",
       "      <td>8908.35</td>\n",
       "      <td>8911.00</td>\n",
       "      <td>8846.95</td>\n",
       "      <td>8893.45</td>\n",
       "    </tr>\n",
       "    <tr>\n",
       "      <th>22</th>\n",
       "      <td>14 Dec 2022</td>\n",
       "      <td>8888.45</td>\n",
       "      <td>8905.65</td>\n",
       "      <td>8881.15</td>\n",
       "      <td>8892.10</td>\n",
       "    </tr>\n",
       "    <tr>\n",
       "      <th>30</th>\n",
       "      <td>02 Dec 2022</td>\n",
       "      <td>8896.00</td>\n",
       "      <td>8903.30</td>\n",
       "      <td>8859.65</td>\n",
       "      <td>8889.95</td>\n",
       "    </tr>\n",
       "    <tr>\n",
       "      <th>32</th>\n",
       "      <td>30 Nov 2022</td>\n",
       "      <td>8811.40</td>\n",
       "      <td>8901.70</td>\n",
       "      <td>8808.15</td>\n",
       "      <td>8877.00</td>\n",
       "    </tr>\n",
       "    <tr>\n",
       "      <th>...</th>\n",
       "      <td>...</td>\n",
       "      <td>...</td>\n",
       "      <td>...</td>\n",
       "      <td>...</td>\n",
       "      <td>...</td>\n",
       "    </tr>\n",
       "    <tr>\n",
       "      <th>140</th>\n",
       "      <td>23 Jun 2022</td>\n",
       "      <td>7274.40</td>\n",
       "      <td>7357.75</td>\n",
       "      <td>7240.80</td>\n",
       "      <td>7328.00</td>\n",
       "    </tr>\n",
       "    <tr>\n",
       "      <th>145</th>\n",
       "      <td>16 Jun 2022</td>\n",
       "      <td>7517.80</td>\n",
       "      <td>7528.50</td>\n",
       "      <td>7268.20</td>\n",
       "      <td>7281.70</td>\n",
       "    </tr>\n",
       "    <tr>\n",
       "      <th>141</th>\n",
       "      <td>22 Jun 2022</td>\n",
       "      <td>7326.80</td>\n",
       "      <td>7331.60</td>\n",
       "      <td>7245.00</td>\n",
       "      <td>7255.25</td>\n",
       "    </tr>\n",
       "    <tr>\n",
       "      <th>144</th>\n",
       "      <td>17 Jun 2022</td>\n",
       "      <td>7238.60</td>\n",
       "      <td>7293.95</td>\n",
       "      <td>7177.45</td>\n",
       "      <td>7228.70</td>\n",
       "    </tr>\n",
       "    <tr>\n",
       "      <th>143</th>\n",
       "      <td>20 Jun 2022</td>\n",
       "      <td>7246.05</td>\n",
       "      <td>7259.05</td>\n",
       "      <td>7145.35</td>\n",
       "      <td>7198.40</td>\n",
       "    </tr>\n",
       "  </tbody>\n",
       "</table>\n",
       "<p>249 rows × 5 columns</p>\n",
       "</div>"
      ],
      "text/plain": [
       "            Date     Open     High      Low    Close\n",
       "31   01 Dec 2022  8929.90  8930.90  8892.30  8909.90\n",
       "29   05 Dec 2022  8908.35  8911.00  8846.95  8893.45\n",
       "22   14 Dec 2022  8888.45  8905.65  8881.15  8892.10\n",
       "30   02 Dec 2022  8896.00  8903.30  8859.65  8889.95\n",
       "32   30 Nov 2022  8811.40  8901.70  8808.15  8877.00\n",
       "..           ...      ...      ...      ...      ...\n",
       "140  23 Jun 2022  7274.40  7357.75  7240.80  7328.00\n",
       "145  16 Jun 2022  7517.80  7528.50  7268.20  7281.70\n",
       "141  22 Jun 2022  7326.80  7331.60  7245.00  7255.25\n",
       "144  17 Jun 2022  7238.60  7293.95  7177.45  7228.70\n",
       "143  20 Jun 2022  7246.05  7259.05  7145.35  7198.40\n",
       "\n",
       "[249 rows x 5 columns]"
      ]
     },
     "execution_count": 59,
     "metadata": {},
     "output_type": "execute_result"
    }
   ],
   "source": [
    "nifty.sort_values(by = ['Close','Open'] , ascending=[False,False])"
   ]
  },
  {
   "cell_type": "code",
   "execution_count": null,
   "metadata": {},
   "outputs": [],
   "source": []
  }
 ],
 "metadata": {
  "kernelspec": {
   "display_name": "github1",
   "language": "python",
   "name": "python3"
  },
  "language_info": {
   "codemirror_mode": {
    "name": "ipython",
    "version": 3
   },
   "file_extension": ".py",
   "mimetype": "text/x-python",
   "name": "python",
   "nbconvert_exporter": "python",
   "pygments_lexer": "ipython3",
   "version": "3.10.8"
  },
  "orig_nbformat": 4,
  "vscode": {
   "interpreter": {
    "hash": "e2f1f49a464b0261529b7f879af28a2fa50ede0bedb86dbf326bb328bc03475b"
   }
  }
 },
 "nbformat": 4,
 "nbformat_minor": 2
}
