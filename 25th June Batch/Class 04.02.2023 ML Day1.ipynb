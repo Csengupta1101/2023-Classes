{
 "cells": [
  {
   "attachments": {},
   "cell_type": "markdown",
   "metadata": {},
   "source": [
    "#### Machine Learning - ML\n",
    "\n",
    "the technique of teaching machines.\n",
    "\n",
    "###### Supervised Learning\n",
    "###### Unsupervised Learning\n",
    "###### Reinforcement Learning\n",
    "\n"
   ]
  },
  {
   "attachments": {},
   "cell_type": "markdown",
   "metadata": {},
   "source": [
    "#### Supervised\n",
    "\n",
    "labels \n",
    "\n",
    "##### Unsupervised\n",
    "\n",
    "No Labels\n",
    "\n",
    "##### reinforcement learning\n",
    "\n",
    "learning from lessons , experience , mistakes"
   ]
  },
  {
   "attachments": {},
   "cell_type": "markdown",
   "metadata": {},
   "source": [
    "alien - machine\n",
    "people giving the shopkeepers a piece of paper with M Gandhi's photo , in exchange of that the shopkeeper is giving the person food\n",
    "alien is learning -\n",
    "learning 1 - give photo of gandhi to get food from shop\n",
    "alien is performing an action - tears up gandhi poster and goes to shop and give the poster to shop asked for food\n",
    "shopkeeper refuses\n",
    "\n",
    "\n",
    "learning 2 - every photo of gandhi can't be exchanged for food\n",
    "learning 3 - the photo needs to be in a specific shape\n",
    "learning 4 - the photo should have numeric digit written\n",
    "learning 5 - rbi strip should be there\n",
    "\n",
    "\n",
    "that particular piece of photo/paper can be exchanged for food\n",
    "\n"
   ]
  },
  {
   "attachments": {},
   "cell_type": "markdown",
   "metadata": {},
   "source": [
    "regression problems - \n",
    "predict a continious variable"
   ]
  },
  {
   "attachments": {},
   "cell_type": "markdown",
   "metadata": {},
   "source": [
    "Recommendation system -\n",
    "\n",
    "content based recommendation - die hard 1 , james bond , fast and furious , brooklyn nine nine , - comedy thrillers \n",
    "Popularity Based recommendtaion - \n",
    "collaborative filtering recommendation - "
   ]
  },
  {
   "attachments": {},
   "cell_type": "markdown",
   "metadata": {},
   "source": [
    "A B testing"
   ]
  },
  {
   "cell_type": "markdown",
   "metadata": {},
   "source": []
  }
 ],
 "metadata": {
  "language_info": {
   "name": "python"
  },
  "orig_nbformat": 4
 },
 "nbformat": 4,
 "nbformat_minor": 2
}
