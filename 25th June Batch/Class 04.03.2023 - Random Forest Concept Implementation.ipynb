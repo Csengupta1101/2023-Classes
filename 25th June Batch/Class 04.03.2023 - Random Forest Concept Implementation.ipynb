{
 "cells": [
  {
   "attachments": {},
   "cell_type": "markdown",
   "metadata": {},
   "source": [
    "#### Ensemble Learning\n",
    "\n",
    "This kind of learning takes into consideration different algorithms and different set of training data to build the model. \n",
    "\n",
    "1.  In here our model creates multiple models , as an example suppose one individual is planning to buy a car , and the person has a specific choice of car. Suppose that model is \"Honda City\"\n",
    "2.  Now the individual will go and ask for feedbacks for that particular car from multiple people.\n",
    "3.  Some will say yes to Honda City , some will say no to Honday city , so multiple decisions will come into picture.\n",
    "4.  Our model will iterate through this all this decision and based on precision , accuracy etc , it will get us the best possible decision.\n",
    "5.  Now to look into this in machine learning perspective , the multiple people who are being asked about the decision can use multiple algorithms , as some can use KNN , some can use logistic regression , some can use SVM etc etc , this is one kind of ensemble learning.\n",
    "6.  Another pattern would be using the same algorithm , suppose Logistic regression but using different training data set from the main master data set to conclude with a final result."
   ]
  },
  {
   "cell_type": "markdown",
   "metadata": {},
   "source": []
  }
 ],
 "metadata": {
  "kernelspec": {
   "display_name": "Python 3",
   "language": "python",
   "name": "python3"
  },
  "language_info": {
   "name": "python",
   "version": "3.9.13"
  },
  "orig_nbformat": 4
 },
 "nbformat": 4,
 "nbformat_minor": 2
}
