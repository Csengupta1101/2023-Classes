{
 "cells": [
  {
   "attachments": {},
   "cell_type": "markdown",
   "metadata": {},
   "source": [
    "#### Data Collection\n",
    "\n",
    "*   csv , json , mysql server - notebook , pandas , numpy , matplotlib , seaborn , plotly\n",
    "*   finding or identifying dependent and independent variable"
   ]
  },
  {
   "attachments": {},
   "cell_type": "markdown",
   "metadata": {},
   "source": [
    "*   Dependent / Target Variables\n",
    "*   Independent Variables\n",
    "*   Predictive Modelling\n",
    "*   Intercept\n",
    "*   Slope\n",
    "*   Simple Linear Regression\n",
    "*   Multiple Linear Regression\n",
    "*   Exploratory Data Analysis\n",
    "*   Handling Missing/Null Values\n",
    "*   Outlier Detection\n",
    "*   Feature Engineering\n",
    "*   seggrating the data based on dependent and independent variables\n",
    "*   Standardizing \n",
    "*   Encoding\n",
    "*   Train Test Split\n",
    "*   Residuals\n",
    "*   MSE , RMSE\n"
   ]
  },
  {
   "attachments": {},
   "cell_type": "markdown",
   "metadata": {},
   "source": [
    "##### Formulas -\n",
    "\n",
    "*   Simple Linear Regression - y = c + mx (c = intercept , m = slope of the line of regression , y = dependent variable , x = independent variable )\n",
    "*   Multiple Linear Regression - y = b0 + b1x1 + b2x2 .... + bnxn (b = regression co efficent , x = independent variable )"
   ]
  },
  {
   "cell_type": "markdown",
   "metadata": {},
   "source": []
  }
 ],
 "metadata": {
  "language_info": {
   "name": "python"
  },
  "orig_nbformat": 4
 },
 "nbformat": 4,
 "nbformat_minor": 2
}
