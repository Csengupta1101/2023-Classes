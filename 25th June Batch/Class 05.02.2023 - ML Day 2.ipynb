{
 "cells": [
  {
   "attachments": {},
   "cell_type": "markdown",
   "metadata": {},
   "source": [
    "#### Data Collection\n",
    "\n",
    "*   csv , json , mysql server - notebook , pandas , numpy , matplotlib , seaborn , plotly\n",
    "*   finding or identifying dependent and independent variable"
   ]
  },
  {
   "attachments": {},
   "cell_type": "markdown",
   "metadata": {},
   "source": [
    "*   Dependent / Target Variables\n",
    "*   Independent Variables\n",
    "*   Predictive Modelling\n",
    "*   Intercept\n",
    "*   Slope\n",
    "*   Simple Linear Regression\n",
    "*   Multiple Linear Regression\n",
    "*   Exploratory Data Analysis\n",
    "*   Handling Missing/Null Values\n",
    "*   Outlier Detection\n",
    "*   Feature Engineering\n",
    "*   seggrating the data based on dependent and independent variables\n",
    "*   Standardizing \n",
    "*   Encoding\n",
    "*   Train Test Split\n",
    "*   Residuals\n",
    "*   MSE , RMSE\n"
   ]
  },
  {
   "attachments": {},
   "cell_type": "markdown",
   "metadata": {},
   "source": [
    "##### Formulas -\n",
    "\n",
    "*   Simple Linear Regression - y = c + mx (c = intercept , m = slope of the line of regression , y = dependent variable , x = independent variable )\n",
    "*   Multiple Linear Regression - y = b0 + b1x1 + b2x2 .... + bnxn (b = regression co efficent , x = independent variable )"
   ]
  },
  {
   "cell_type": "markdown",
   "metadata": {},
   "source": []
  }
 ],
 "metadata": {
  "kernelspec": {
   "display_name": "Python 3",
   "language": "python",
   "name": "python3"
  },
  "language_info": {
   "name": "python",
   "version": "3.9.13"
  },
  "orig_nbformat": 4,
  "vscode": {
   "interpreter": {
    "hash": "c715fae038ea3023ce1b7da7ba9885d98010e1b6ab84c7b957e0940952b2221c"
   }
  }
 },
 "nbformat": 4,
 "nbformat_minor": 2
}
