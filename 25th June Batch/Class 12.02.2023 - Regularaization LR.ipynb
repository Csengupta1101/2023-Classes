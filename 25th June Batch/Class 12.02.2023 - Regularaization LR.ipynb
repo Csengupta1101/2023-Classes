{
 "cells": [
  {
   "cell_type": "code",
   "execution_count": null,
   "metadata": {},
   "outputs": [],
   "source": []
  }
 ],
 "metadata": {
  "kernelspec": {
   "display_name": "mlalgos",
   "language": "python",
   "name": "python3"
  },
  "language_info": {
   "name": "python",
   "version": "3.10.8"
  },
  "orig_nbformat": 4,
  "vscode": {
   "interpreter": {
    "hash": "f7027243fd7be29ac95c34d4b613ce8cc0e62f5030727bb11bace333d2393ea3"
   }
  }
 },
 "nbformat": 4,
 "nbformat_minor": 2
}
