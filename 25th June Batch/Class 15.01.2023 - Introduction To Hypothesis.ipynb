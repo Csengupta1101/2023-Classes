{
 "cells": [
  {
   "attachments": {},
   "cell_type": "markdown",
   "metadata": {},
   "source": [
    "##### Hypothesis "
   ]
  },
  {
   "attachments": {},
   "cell_type": "markdown",
   "metadata": {},
   "source": [
    "1.  Normality test - In this kind of tests , the assumption is that the target variable should be normally distributed.\n",
    "2. Corelation test - \n",
    "3. Other tests -\n",
    "    a.  Parametric\n",
    "    b.  Non Parametric\n",
    "    c.  Stationary test\n"
   ]
  }
 ],
 "metadata": {
  "language_info": {
   "name": "python"
  },
  "orig_nbformat": 4
 },
 "nbformat": 4,
 "nbformat_minor": 2
}
