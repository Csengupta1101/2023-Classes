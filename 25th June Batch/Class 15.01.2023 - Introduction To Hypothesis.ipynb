{
 "cells": [
  {
   "attachments": {},
   "cell_type": "markdown",
   "metadata": {},
   "source": [
    "### Bayes Theorem\n",
    " probability of event a happening given that event b has occured is equal with -\n",
    " probability of event b given that event a has occured multiplied with probability of event a \n",
    " divided  divided by probability of event b happening"
   ]
  },
  {
   "attachments": {},
   "cell_type": "markdown",
   "metadata": {},
   "source": [
    "#### Conditional probability\n",
    " 1.  Two events - a and b\n",
    " 2.  we need to find the probability of event 'a' happening with a given condition that event b has already occured.\n",
    " 3.  event a is - \"India winning the tournament\"\n",
    " 4.  event b is - \"Dhoni scoring three centuries\"\n",
    "\n",
    " formula -  p(a/b) = p(a^b)/p(b)"
   ]
  },
  {
   "attachments": {},
   "cell_type": "markdown",
   "metadata": {},
   "source": [
    "1.  total number of student is 100\n",
    "2.  40 students like apples - event - \"liking of apples\" - a\n",
    "3.  30 students like oranges - event \"liking of oranges\" - b\n",
    "4.  20 students like apple and orange both"
   ]
  },
  {
   "attachments": {},
   "cell_type": "markdown",
   "metadata": {},
   "source": [
    "1. p(b) = 30/100 = 0.3\n",
    "2. p(a^b) = 20/100 = 0.2\n",
    "3. p(a^b)/p(b) = 0.2/0.3 = 0.67"
   ]
  },
  {
   "attachments": {},
   "cell_type": "markdown",
   "metadata": {},
   "source": [
    "1.  b s called evidence/data\n",
    "2.  p(a|b) is called posterior\n",
    "3.  p(b|a) is called likelihood\n",
    "4.  p(a) is called prior\n",
    "5.  p(b) is called marginal"
   ]
  },
  {
   "attachments": {},
   "cell_type": "markdown",
   "metadata": {},
   "source": [
    "Q. Find out the probability of a card being \"king\"  given it's a face card.\n",
    "1.  52 cards\n",
    "2.  12 face card\n",
    "3.  4 kings\n",
    "\n",
    "\n",
    "probability of event a happening without any condition - 40/100 = 0.4"
   ]
  },
  {
   "attachments": {},
   "cell_type": "markdown",
   "metadata": {},
   "source": [
    "#### Naive Bayes Classifier"
   ]
  },
  {
   "attachments": {},
   "cell_type": "markdown",
   "metadata": {},
   "source": [
    "#### Hypothesis -\n",
    "\n",
    "suggesting or assuming that a particluar event is true - \n",
    "\n",
    "1.  Null hypothesis becomes true  - Alternate hypothesis is false\n",
    "2.  Null hypothesis becomes false  - Alternate hypothesis is true\n",
    "\n"
   ]
  },
  {
   "cell_type": "markdown",
   "metadata": {},
   "source": []
  }
 ],
 "metadata": {
  "kernelspec": {
   "display_name": "github1",
   "language": "python",
   "name": "python3"
  },
  "language_info": {
   "codemirror_mode": {
    "name": "ipython",
    "version": 3
   },
   "file_extension": ".py",
   "mimetype": "text/x-python",
   "name": "python",
   "nbconvert_exporter": "python",
   "pygments_lexer": "ipython3",
   "version": "3.10.8"
  },
  "orig_nbformat": 4,
  "vscode": {
   "interpreter": {
    "hash": "e2f1f49a464b0261529b7f879af28a2fa50ede0bedb86dbf326bb328bc03475b"
   }
  }
 },
 "nbformat": 4,
 "nbformat_minor": 2
}
