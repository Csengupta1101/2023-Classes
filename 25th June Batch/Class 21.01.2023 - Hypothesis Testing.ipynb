{
 "cells": [
  {
   "attachments": {},
   "cell_type": "markdown",
   "metadata": {},
   "source": [
    "#### HYpothesis Test\n",
    "1.  Null Hypothesis \n",
    "2.  Alternate Hypothesis"
   ]
  },
  {
   "attachments": {},
   "cell_type": "markdown",
   "metadata": {},
   "source": [
    "#### XYZ Company\n",
    "\n",
    "###### Existing Stock of meds\n",
    "\n",
    "headache - abc\n",
    "stomach - qwerty\n",
    "hairfall - op"
   ]
  },
  {
   "attachments": {},
   "cell_type": "markdown",
   "metadata": {},
   "source": [
    "Stomach - kol"
   ]
  },
  {
   "attachments": {},
   "cell_type": "markdown",
   "metadata": {},
   "source": [
    "1.  x1 - new \n",
    "2.  x2 - old"
   ]
  },
  {
   "attachments": {},
   "cell_type": "markdown",
   "metadata": {},
   "source": [
    "1.  The new medicine will have the same kind of revenue as the old medicine - Null Hypothesis will be accepted / alternate hypothesis will get rejected - Ho\n",
    "2.  The new medicine will not have the same kind of revenue as the old medicine - Null Hypothesis will be rejected / alternate hypothesis will get accepted - Ha"
   ]
  },
  {
   "attachments": {},
   "cell_type": "markdown",
   "metadata": {},
   "source": [
    "1.  Confidence level\n",
    "2.  Significance level"
   ]
  },
  {
   "cell_type": "markdown",
   "metadata": {},
   "source": []
  }
 ],
 "metadata": {
  "kernelspec": {
   "display_name": "github1",
   "language": "python",
   "name": "python3"
  },
  "language_info": {
   "name": "python",
   "version": "3.10.8 | packaged by conda-forge | (main, Nov 24 2022, 14:07:00) [MSC v.1916 64 bit (AMD64)]"
  },
  "orig_nbformat": 4,
  "vscode": {
   "interpreter": {
    "hash": "e2f1f49a464b0261529b7f879af28a2fa50ede0bedb86dbf326bb328bc03475b"
   }
  }
 },
 "nbformat": 4,
 "nbformat_minor": 2
}
