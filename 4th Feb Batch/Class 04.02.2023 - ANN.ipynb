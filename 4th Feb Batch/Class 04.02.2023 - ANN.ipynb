{
 "cells": [
  {
   "attachments": {},
   "cell_type": "markdown",
   "metadata": {},
   "source": [
    "#### Deep Learning\n",
    "\n",
    "It is a subset ML.\n",
    "\n",
    "ML workflow -\n",
    "\n",
    "1.  Getting the data\n",
    "2.  Performing EDA , feature extraction\n",
    "3.  Training the model \n",
    "4.  Output\n",
    "\n",
    "DL Workflow\n",
    "\n",
    "1. Getting the data\n",
    "2. Feature extraction/training the model\n",
    "3. Output\n",
    "\n",
    "Reinforcement learning -\n",
    "\n",
    "1.  Penalty\n",
    "2.  Loss\n",
    "3.  Bias\n",
    "\n",
    "DL Data types -\n",
    "\n",
    "1. Images\n",
    "2. Sounds\n",
    "3. Unstructred Texts"
   ]
  }
 ],
 "metadata": {
  "kernelspec": {
   "display_name": "Python 3",
   "language": "python",
   "name": "python3"
  },
  "language_info": {
   "name": "python",
   "version": "3.9.13"
  },
  "orig_nbformat": 4,
  "vscode": {
   "interpreter": {
    "hash": "c715fae038ea3023ce1b7da7ba9885d98010e1b6ab84c7b957e0940952b2221c"
   }
  }
 },
 "nbformat": 4,
 "nbformat_minor": 2
}
